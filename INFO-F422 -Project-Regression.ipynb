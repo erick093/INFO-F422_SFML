{
 "cells": [
  {
   "cell_type": "markdown",
   "metadata": {},
   "source": [
    "\n",
    "\n",
    "<img src=\"https://saas.ulb.ac.be/wp-content/uploads/2016/09/logo_ulb.png\" alt=\"Drawing\" width=\"300\"/>\n",
    "<br>\n",
    "<br>\n",
    "<br>\n",
    "<br>\n",
    "<br>\n",
    "<br>\n",
    "<br>\n",
    "<br>\n",
    "\n",
    "# INFO-F422 Statistical Foundations for Machine Learning - Regression algorithms\n",
    "\n",
    "<br>\n",
    "<br>\n",
    "<br>\n",
    "<br>\n",
    "<br>\n",
    "<br>\n",
    "    \n",
    "**Name**: Erick Escobar Gallardo\n",
    "\n",
    "\n",
    "**Student-code**: 000489309\n",
    "\n",
    "**University**: ULB\n"
   ]
  },
  {
   "cell_type": "markdown",
   "metadata": {},
   "source": [
    "# **Regression - Real datasets**\n"
   ]
  },
  {
   "cell_type": "code",
   "execution_count": 3,
   "metadata": {},
   "outputs": [],
   "source": [
    "#Common libs\n",
    "import pandas as pd\n",
    "import seaborn as sns; sns.set()\n",
    "import matplotlib.pyplot as plt\n",
    "import numpy as np\n",
    "import math"
   ]
  },
  {
   "cell_type": "markdown",
   "metadata": {},
   "source": [
    "# **Regression - Syntetic datasets**"
   ]
  },
  {
   "cell_type": "code",
   "execution_count": 19,
   "metadata": {},
   "outputs": [],
   "source": [
    "def symbolize(s):\n",
    "    \"\"\"\n",
    "    Converts a a string (equation) to a SymPy symbol object\n",
    "    \"\"\"\n",
    "    from sympy import sympify\n",
    "    s1=s.replace('.','*')\n",
    "    s2=s1.replace('^','**')\n",
    "    s3=sympify(s2)\n",
    "    \n",
    "    return(s3)"
   ]
  },
  {
   "cell_type": "code",
   "execution_count": 20,
   "metadata": {},
   "outputs": [],
   "source": [
    "def eval_multinomial(s,vals=None,symbolic_eval=False):\n",
    "    \"\"\"\n",
    "    Evaluates polynomial at vals.\n",
    "    vals can be simple list, dictionary, or tuple of values.\n",
    "    vals can also contain symbols instead of real values provided those symbols have been declared before using SymPy\n",
    "    \"\"\"\n",
    "    from sympy import Symbol\n",
    "    sym_s=symbolize(s)\n",
    "    sym_set=sym_s.atoms(Symbol)\n",
    "    sym_lst=[]\n",
    "    for s in sym_set:\n",
    "        sym_lst.append(str(s))\n",
    "    sym_lst.sort()\n",
    "    if symbolic_eval==False and len(sym_set)!=len(vals):\n",
    "        print(\"Length of the input values did not match number of variables and symbolic evaluation is not selected\")\n",
    "        return None\n",
    "    else:\n",
    "        if type(vals)==list:\n",
    "            sub=list(zip(sym_lst,vals))\n",
    "        elif type(vals)==dict:\n",
    "            l=list(vals.keys())\n",
    "            l.sort()\n",
    "            lst=[]\n",
    "            for i in l:\n",
    "                lst.append(vals[i])\n",
    "            sub=list(zip(sym_lst,lst))\n",
    "        elif type(vals)==tuple:\n",
    "            sub=list(zip(sym_lst,list(vals)))\n",
    "        result=sym_s.subs(sub)\n",
    "    \n",
    "    return result"
   ]
  },
  {
   "cell_type": "code",
   "execution_count": 21,
   "metadata": {},
   "outputs": [],
   "source": [
    "def gen_regression_symbolic(m=None,n_samples=100,n_features=2,noise=0.0,noise_dist='normal'):\n",
    "    \"\"\"\n",
    "    Generates regression sample based on a symbolic expression. Calculates the output of the symbolic expression \n",
    "    at randomly generated (drawn from a Gaussian distribution) points\n",
    "    m: The symbolic expression. Needs x1, x2, etc as variables and regular python arithmatic symbols to be used.\n",
    "    n_samples: Number of samples to be generated\n",
    "    n_features: Number of variables. This is automatically inferred from the symbolic expression. So this is ignored \n",
    "                in case a symbolic expression is supplied. However if no symbolic expression is supplied then a \n",
    "                default simple polynomial can be invoked to generate regression samples with n_features.\n",
    "    noise: Magnitude of Gaussian noise to be introduced (added to the output).\n",
    "    noise_dist: Type of the probability distribution of the noise signal. \n",
    "    Currently supports: Normal, Uniform, t, Beta, Gamma, Poission, Laplace\n",
    "\n",
    "    Returns a numpy ndarray with dimension (n_samples,n_features+1). Last column is the response vector.\n",
    "    \"\"\"\n",
    "    \n",
    "    import numpy as np\n",
    "    from sympy import Symbol,sympify\n",
    "    \n",
    "    if m==None:\n",
    "        m=''\n",
    "        for i in range(1,n_features+1):\n",
    "            c='x'+str(i)\n",
    "            c+=np.random.choice(['+','-'],p=[0.5,0.5])\n",
    "            m+=c\n",
    "        m=m[:-1]\n",
    "    \n",
    "    sym_m=sympify(m)\n",
    "    n_features=len(sym_m.atoms(Symbol))\n",
    "    evals=[]\n",
    "    lst_features=[]\n",
    "    \n",
    "    for i in range(n_features):\n",
    "        lst_features.append(np.random.normal(scale=5,size=n_samples))\n",
    "    lst_features=np.array(lst_features)\n",
    "    lst_features=lst_features.T\n",
    "    lst_features=lst_features.reshape(n_samples,n_features)\n",
    "    \n",
    "    for i in range(n_samples):\n",
    "        evals.append(eval_multinomial(m,vals=list(lst_features[i])))\n",
    "    \n",
    "    evals=np.array(evals)\n",
    "    evals=evals.reshape(n_samples,1)\n",
    "    \n",
    "    if noise_dist=='normal':\n",
    "        noise_sample=noise*np.random.normal(loc=0,scale=1.0,size=n_samples)\n",
    "    elif noise_dist=='uniform':\n",
    "        noise_sample=noise*np.random.uniform(low=0,high=1.0,size=n_samples)\n",
    "    elif noise_dist=='beta':\n",
    "        noise_sample=noise*np.random.beta(a=0.5,b=1.0,size=n_samples)\n",
    "    elif noise_dist=='Gamma':\n",
    "        noise_sample=noise*np.random.gamma(shape=1.0,scale=1.0,size=n_samples)\n",
    "    elif noise_dist=='laplace':\n",
    "        noise_sample=noise*np.random.laplace(loc=0.0,scale=1.0,size=n_samples)\n",
    "        \n",
    "    noise_sample=noise_sample.reshape(n_samples,1)\n",
    "    evals=evals+noise_sample\n",
    "        \n",
    "    x=np.hstack((lst_features,evals))\n",
    "    \n",
    "    return (x)"
   ]
  },
  {
   "cell_type": "code",
   "execution_count": 5,
   "metadata": {},
   "outputs": [],
   "source": [
    "from sklearn.datasets import make_regression"
   ]
  },
  {
   "cell_type": "code",
   "execution_count": 22,
   "metadata": {},
   "outputs": [],
   "source": [
    "X, y, coef = make_regression(n_samples=1000, n_features=1,\n",
    "                                      n_informative=1, noise=10,\n",
    "                                      coef=True, random_state=0)"
   ]
  },
  {
   "cell_type": "code",
   "execution_count": 18,
   "metadata": {},
   "outputs": [
    {
     "data": {
      "text/plain": [
       "<matplotlib.collections.PathCollection at 0x257a5e45088>"
      ]
     },
     "execution_count": 18,
     "metadata": {},
     "output_type": "execute_result"
    },
    {
     "data": {
      "image/png": "[encoded data removed]",
      "text/plain": [
       "<Figure size 432x288 with 1 Axes>"
      ]
     },
     "metadata": {},
     "output_type": "display_data"
    }
   ],
   "source": [
    "plt.scatter(X, y, color='yellowgreen', marker='.',\n",
    "            label='Inliers')"
   ]
  },
  {
   "cell_type": "markdown",
   "metadata": {},
   "source": [
    "$1.7 x^{2}+1.5 x+9+f_{\\text {noise}}(x | N=12)$"
   ]
  },
  {
   "cell_type": "code",
   "execution_count": 28,
   "metadata": {},
   "outputs": [
    {
     "data": {
      "image/png": "[encoded data removed]",
      "text/plain": [
       "<Figure size 432x288 with 1 Axes>"
      ]
     },
     "metadata": {},
     "output_type": "display_data"
    }
   ],
   "source": [
    "x=gen_regression_symbolic(m='1.7*x**2+1.5*x+9',n_samples=1000,noise=12)\n",
    "df=pd.DataFrame(x)\n",
    "plt.scatter(df[0],df[1])\n",
    "plt.show()"
   ]
  },
  {
   "cell_type": "code",
   "execution_count": null,
   "metadata": {},
   "outputs": [],
   "source": []
  }
 ],
 "metadata": {
  "kernelspec": {
   "display_name": "Python [conda env:.conda-INFO-F422] *",
   "language": "python",
   "name": "conda-env-.conda-INFO-F422-py"
  },
  "language_info": {
   "codemirror_mode": {
    "name": "ipython",
    "version": 3
   },
   "file_extension": ".py",
   "mimetype": "text/x-python",
   "name": "python",
   "nbconvert_exporter": "python",
   "pygments_lexer": "ipython3",
   "version": "3.7.7"
  }
 },
 "nbformat": 4,
 "nbformat_minor": 4
}
